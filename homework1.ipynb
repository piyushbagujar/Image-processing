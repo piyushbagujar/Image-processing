{
 "cells": [
  {
   "cell_type": "code",
   "execution_count": 2,
   "id": "0ce935f2-ca7e-4934-85d7-e2bbf1d94d4f",
   "metadata": {},
   "outputs": [
    {
     "name": "stdout",
     "output_type": "stream",
     "text": [
      "Collecting opencv-python\n",
      "  Downloading opencv_python-4.12.0.88-cp37-abi3-win_amd64.whl.metadata (19 kB)\n",
      "Collecting numpy<2.3.0,>=2 (from opencv-python)\n",
      "  Downloading numpy-2.2.6-cp312-cp312-win_amd64.whl.metadata (60 kB)\n",
      "     ---------------------------------------- 0.0/60.8 kB ? eta -:--:--\n",
      "     ---------------------------------------- 60.8/60.8 kB 3.4 MB/s eta 0:00:00\n",
      "Downloading opencv_python-4.12.0.88-cp37-abi3-win_amd64.whl (39.0 MB)\n",
      "   ---------------------------------------- 0.0/39.0 MB ? eta -:--:--\n",
      "   - -------------------------------------- 1.1/39.0 MB 23.3 MB/s eta 0:00:02\n",
      "   - -------------------------------------- 1.9/39.0 MB 16.8 MB/s eta 0:00:03\n",
      "   ---- ----------------------------------- 4.2/39.0 MB 22.2 MB/s eta 0:00:02\n",
      "   ------ --------------------------------- 6.6/39.0 MB 27.9 MB/s eta 0:00:02\n",
      "   --------- ------------------------------ 9.1/39.0 MB 32.4 MB/s eta 0:00:01\n",
      "   ----------- ---------------------------- 11.2/39.0 MB 34.4 MB/s eta 0:00:01\n",
      "   -------------- ------------------------- 13.7/39.0 MB 50.4 MB/s eta 0:00:01\n",
      "   ---------------- ----------------------- 15.7/39.0 MB 46.9 MB/s eta 0:00:01\n",
      "   ------------------ --------------------- 18.0/39.0 MB 46.7 MB/s eta 0:00:01\n",
      "   -------------------- ------------------- 19.7/39.0 MB 43.7 MB/s eta 0:00:01\n",
      "   --------------------- ------------------ 21.0/39.0 MB 38.5 MB/s eta 0:00:01\n",
      "   ----------------------- ---------------- 23.1/39.0 MB 36.4 MB/s eta 0:00:01\n",
      "   -------------------------- ------------- 25.5/39.0 MB 36.4 MB/s eta 0:00:01\n",
      "   ---------------------------- ----------- 27.5/39.0 MB 36.4 MB/s eta 0:00:01\n",
      "   ------------------------------ --------- 30.1/39.0 MB 40.9 MB/s eta 0:00:01\n",
      "   --------------------------------- ------ 32.3/39.0 MB 50.1 MB/s eta 0:00:01\n",
      "   ---------------------------------- ----- 33.8/39.0 MB 40.9 MB/s eta 0:00:01\n",
      "   ------------------------------------ --- 35.4/39.0 MB 34.4 MB/s eta 0:00:01\n",
      "   -------------------------------------- - 37.7/39.0 MB 36.4 MB/s eta 0:00:01\n",
      "   ---------------------------------------  38.6/39.0 MB 31.1 MB/s eta 0:00:01\n",
      "   ---------------------------------------  39.0/39.0 MB 29.7 MB/s eta 0:00:01\n",
      "   ---------------------------------------  39.0/39.0 MB 29.7 MB/s eta 0:00:01\n",
      "   ---------------------------------------- 39.0/39.0 MB 21.8 MB/s eta 0:00:00\n",
      "Downloading numpy-2.2.6-cp312-cp312-win_amd64.whl (12.6 MB)\n",
      "   ---------------------------------------- 0.0/12.6 MB ? eta -:--:--\n",
      "   --------- ------------------------------ 2.9/12.6 MB 89.0 MB/s eta 0:00:01\n",
      "   ------------------- -------------------- 6.2/12.6 MB 78.2 MB/s eta 0:00:01\n",
      "   ------------------------------ --------- 9.5/12.6 MB 76.3 MB/s eta 0:00:01\n",
      "   ---------------------------------------  12.6/12.6 MB 65.6 MB/s eta 0:00:01\n",
      "   ---------------------------------------  12.6/12.6 MB 65.6 MB/s eta 0:00:01\n",
      "   ---------------------------------------- 12.6/12.6 MB 50.4 MB/s eta 0:00:00\n",
      "Installing collected packages: numpy, opencv-python\n",
      "  Attempting uninstall: numpy\n",
      "    Found existing installation: numpy 1.26.4\n",
      "    Uninstalling numpy-1.26.4:\n",
      "      Successfully uninstalled numpy-1.26.4\n",
      "Successfully installed numpy-2.2.6 opencv-python-4.12.0.88\n",
      "Note: you may need to restart the kernel to use updated packages.\n"
     ]
    },
    {
     "name": "stderr",
     "output_type": "stream",
     "text": [
      "ERROR: pip's dependency resolver does not currently take into account all the packages that are installed. This behaviour is the source of the following dependency conflicts.\n",
      "contourpy 1.2.0 requires numpy<2.0,>=1.20, but you have numpy 2.2.6 which is incompatible.\n",
      "numba 0.59.1 requires numpy<1.27,>=1.22, but you have numpy 2.2.6 which is incompatible.\n",
      "pywavelets 1.5.0 requires numpy<2.0,>=1.22.4, but you have numpy 2.2.6 which is incompatible.\n",
      "streamlit 1.32.0 requires numpy<2,>=1.19.3, but you have numpy 2.2.6 which is incompatible.\n"
     ]
    }
   ],
   "source": [
    "pip install opencv-python"
   ]
  },
  {
   "cell_type": "code",
   "execution_count": 6,
   "id": "9a968140-dd20-4d1f-ba85-30ced0fd37c3",
   "metadata": {},
   "outputs": [],
   "source": [
    "import cv2\n",
    "import os"
   ]
  },
  {
   "cell_type": "code",
   "execution_count": 7,
   "id": "1f4d2006-9572-4d3d-bda6-7c1fa2caf16d",
   "metadata": {},
   "outputs": [],
   "source": [
    "folder_path = r\"C:\\Users\\pb875\\OneDrive\\Desktop\\folder\""
   ]
  },
  {
   "cell_type": "code",
   "execution_count": 8,
   "id": "e4c438d2-2687-4cd0-b6aa-242fd709b790",
   "metadata": {},
   "outputs": [],
   "source": [
    "# Get all image files in the folder\n",
    "image_files = [f for f in os.listdir(folder_path) if f.lower().endswith(('.jpg', '.png', '.jpeg'))]\n",
    "image_files.sort()\n"
   ]
  },
  {
   "cell_type": "code",
   "execution_count": 9,
   "id": "a7fb8be4-33c3-4b90-84a9-a21e08e75d5e",
   "metadata": {},
   "outputs": [],
   "source": [
    "# Read and resize images\n",
    "images = []\n",
    "width, height = 800, 600  # Standard display size\n"
   ]
  },
  {
   "cell_type": "code",
   "execution_count": 10,
   "id": "9d9b3a47-4b2e-44f8-90a1-190bcbb57c29",
   "metadata": {},
   "outputs": [],
   "source": [
    "for file in image_files:\n",
    "    img_path = os.path.join(folder_path, file)\n",
    "    img = cv2.imread(img_path)\n",
    "    if img is not None:\n",
    "        img = cv2.resize(img, (width, height))\n",
    "        images.append(img)"
   ]
  },
  {
   "cell_type": "code",
   "execution_count": 11,
   "id": "e2c8b1be-4b45-4b87-a0ce-5bc3850af208",
   "metadata": {},
   "outputs": [],
   "source": [
    "if len(images) == 0:\n",
    "    print(\"No images found in the folder.\")\n",
    "    exit()"
   ]
  },
  {
   "cell_type": "code",
   "execution_count": null,
   "id": "353ef06b-fb1a-4f76-879b-549f6ef369fb",
   "metadata": {},
   "outputs": [],
   "source": [
    "# Slideshow with crossfade\n",
    "while True:\n",
    "    for i in range(len(images)):\n",
    "        img1 = images[i]\n",
    "        img2 = images[(i + 1) % len(images)]  # Wrap to the first\n",
    "\n",
    "        # Fade transition using addWeighted\n",
    "        for alpha in range(0, 21):\n",
    "            a = alpha / 20.0\n",
    "            blended = cv2.addWeighted(img1, 1 - a, img2, a, 0)\n",
    "            cv2.imshow(\"Smooth Slideshow\", blended)\n",
    "            if cv2.waitKey(50) & 0xFF == 27:  # ESC to exit\n",
    "                cv2.destroyAllWindows()\n",
    "                exit()\n",
    "\n",
    "        # Hold next image for 1 second\n",
    "        if cv2.waitKey(1000) & 0xFF == 27:\n",
    "            cv2.destroyAllWindows()\n",
    "            exit()\n",
    "\n",
    "cv2.destroyAllWindows()"
   ]
  }
 ],
 "metadata": {
  "kernelspec": {
   "display_name": "Python 3 (ipykernel)",
   "language": "python",
   "name": "python3"
  },
  "language_info": {
   "codemirror_mode": {
    "name": "ipython",
    "version": 3
   },
   "file_extension": ".py",
   "mimetype": "text/x-python",
   "name": "python",
   "nbconvert_exporter": "python",
   "pygments_lexer": "ipython3",
   "version": "3.12.4"
  }
 },
 "nbformat": 4,
 "nbformat_minor": 5
}
